{
 "cells": [
  {
   "cell_type": "code",
   "execution_count": 15,
   "metadata": {},
   "outputs": [
    {
     "name": "stdout",
     "output_type": "stream",
     "text": [
      "{8, 3, 5}\n",
      "True\n",
      "{8, 2, 5}\n",
      "3\n"
     ]
    }
   ],
   "source": [
    "# セット（集合型）重複を許さない\n",
    "\n",
    "a = set([5, 3, 8, 5])\n",
    "a = {5, 3, 8, 5}\n",
    "print(a)\n",
    "print(5 in a)\n",
    "a.add(2)# 2をセットに加える\n",
    "a.remove(3)# 3を削除する\n",
    "print(a)\n",
    "print(len(a))"
   ]
  },
  {
   "cell_type": "code",
   "execution_count": 17,
   "metadata": {},
   "outputs": [
    {
     "name": "stdout",
     "output_type": "stream",
     "text": [
      "{1, 3, 5, 8, 9}\n",
      "{8, 3, 5}\n",
      "{1}\n"
     ]
    }
   ],
   "source": [
    "# 集合演算\n",
    "\n",
    "a = {1, 3, 5, 8}\n",
    "b = {3, 5, 8, 9}\n",
    "print(a | b)# 和集合\n",
    "print(a & b)# 積集合\n",
    "print(a -b)# 差集合"
   ]
  }
 ],
 "metadata": {
  "kernelspec": {
   "display_name": "Python 3",
   "language": "python",
   "name": "python3"
  },
  "language_info": {
   "codemirror_mode": {
    "name": "ipython",
    "version": 3
   },
   "file_extension": ".py",
   "mimetype": "text/x-python",
   "name": "python",
   "nbconvert_exporter": "python",
   "pygments_lexer": "ipython3",
   "version": "3.7.3"
  }
 },
 "nbformat": 4,
 "nbformat_minor": 2
}
