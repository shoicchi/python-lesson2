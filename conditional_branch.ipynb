{
 "cells": [
  {
   "cell_type": "code",
   "execution_count": 4,
   "metadata": {},
   "outputs": [
    {
     "name": "stdout",
     "output_type": "stream",
     "text": [
      "score ?70\n",
      "Good!\n"
     ]
    }
   ],
   "source": [
    "# if\n",
    "score = int(input(\"score ?\"))\n",
    "\n",
    "if score > 80:\n",
    "    print(\"Great!\")\n",
    "elif score > 60:\n",
    "    print(\"Good!\")\n",
    "else:\n",
    "    print(\"Soso\")\n",
    "    "
   ]
  },
  {
   "cell_type": "code",
   "execution_count": 1,
   "metadata": {},
   "outputs": [
    {
     "name": "stdout",
     "output_type": "stream",
     "text": [
      "score ?60\n",
      "Soso\n"
     ]
    }
   ],
   "source": [
    "score = int(input(\"score ?\"))\n",
    "\n",
    "print(\"Great!\" if score > 80 else \"Soso\")"
   ]
  },
  {
   "cell_type": "code",
   "execution_count": 5,
   "metadata": {},
   "outputs": [
    {
     "name": "stdout",
     "output_type": "stream",
     "text": [
      "score ?８８\n",
      "Great!\n"
     ]
    }
   ],
   "source": [
    "score = int(input(\"score ?\"))\n",
    "# 以下のように３つ以上の条件分岐も後置ifで記述できるが可読性が著しく落ちるので後置ifは基本的にelifが含まれない分岐で使用する\n",
    "print(\"Great!\" if score > 80 else \"Good!\" if score > 60 else \"so so ...\")"
   ]
  },
  {
   "cell_type": "code",
   "execution_count": null,
   "metadata": {},
   "outputs": [],
   "source": []
  },
  {
   "cell_type": "code",
   "execution_count": null,
   "metadata": {},
   "outputs": [],
   "source": []
  },
  {
   "cell_type": "code",
   "execution_count": null,
   "metadata": {},
   "outputs": [],
   "source": []
  },
  {
   "cell_type": "code",
   "execution_count": null,
   "metadata": {},
   "outputs": [],
   "source": []
  }
 ],
 "metadata": {
  "kernelspec": {
   "display_name": "Python 3",
   "language": "python",
   "name": "python3"
  },
  "language_info": {
   "codemirror_mode": {
    "name": "ipython",
    "version": 3
   },
   "file_extension": ".py",
   "mimetype": "text/x-python",
   "name": "python",
   "nbconvert_exporter": "python",
   "pygments_lexer": "ipython3",
   "version": "3.7.3"
  }
 },
 "nbformat": 4,
 "nbformat_minor": 2
}
