{
 "cells": [
  {
   "cell_type": "code",
   "execution_count": 4,
   "metadata": {},
   "outputs": [
    {
     "name": "stdout",
     "output_type": "stream",
     "text": [
      "score ?70\n",
      "Good!\n"
     ]
    }
   ],
   "source": [
    "# if\n",
    "score = int(input(\"score ?\"))\n",
    "\n",
    "if score > 80:\n",
    "    print(\"Great!\")\n",
    "elif score > 60:\n",
    "    print(\"Good!\")\n",
    "else:\n",
    "    print(\"Soso\")\n",
    "    "
   ]
  },
  {
   "cell_type": "code",
   "execution_count": 6,
   "metadata": {},
   "outputs": [
    {
     "name": "stdout",
     "output_type": "stream",
     "text": [
      "score ?90\n",
      "Great!\n"
     ]
    }
   ],
   "source": [
    "score = int(input(\"score ?\"))\n",
    "\n",
    "print(\"Great!\" if score > 80 else \"Soso\")"
   ]
  }
 ],
 "metadata": {
  "kernelspec": {
   "display_name": "Python 3",
   "language": "python",
   "name": "python3"
  },
  "language_info": {
   "codemirror_mode": {
    "name": "ipython",
    "version": 3
   },
   "file_extension": ".py",
   "mimetype": "text/x-python",
   "name": "python",
   "nbconvert_exporter": "python",
   "pygments_lexer": "ipython3",
   "version": "3.7.3"
  }
 },
 "nbformat": 4,
 "nbformat_minor": 2
}
