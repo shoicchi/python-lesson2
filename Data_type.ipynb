{
 "cells": [
  {
   "cell_type": "code",
   "execution_count": 6,
   "metadata": {},
   "outputs": [
    {
     "name": "stdout",
     "output_type": "stream",
     "text": [
      "Hello World\n",
      "He\n",
      "llo W\torld\n",
      "<html>\n",
      "<body></body>\n",
      "</html>\n"
     ]
    }
   ],
   "source": [
    "# 文字列\n",
    "s = \"Hello World\"\n",
    "\n",
    "# 文字列の中の特殊記号\n",
    "# \\nは改行、\\tはタブを表す\n",
    "a = \"He\\nllo W\\torld\"\n",
    "print(s)\n",
    "print(a)\n",
    "\n",
    "\n",
    "\"\"\"複数行の文章をデータとして表現したい場合は、複数行のコメントアウトと同様にシングル（ダブル\n",
    " ）クオーテーションを使う\"\"\"\n",
    "html = \"\"\"<html>\n",
    "<body></body>\n",
    "</html>\"\"\"\n",
    "print(html)"
   ]
  },
  {
   "cell_type": "code",
   "execution_count": null,
   "metadata": {},
   "outputs": [],
   "source": []
  },
  {
   "cell_type": "code",
   "execution_count": 7,
   "metadata": {},
   "outputs": [
    {
     "name": "stdout",
     "output_type": "stream",
     "text": [
      "10\n"
     ]
    }
   ],
   "source": [
    "# 整数(integer)\n",
    "i = 10\n",
    "print(i)"
   ]
  },
  {
   "cell_type": "code",
   "execution_count": null,
   "metadata": {},
   "outputs": [],
   "source": []
  },
  {
   "cell_type": "code",
   "execution_count": null,
   "metadata": {},
   "outputs": [],
   "source": []
  },
  {
   "cell_type": "code",
   "execution_count": 8,
   "metadata": {},
   "outputs": [
    {
     "name": "stdout",
     "output_type": "stream",
     "text": [
      "23.4\n"
     ]
    }
   ],
   "source": [
    "# 浮動小数点(float)\n",
    "f = 23.4\n",
    "print(f)"
   ]
  },
  {
   "cell_type": "code",
   "execution_count": null,
   "metadata": {},
   "outputs": [],
   "source": []
  },
  {
   "cell_type": "code",
   "execution_count": 4,
   "metadata": {},
   "outputs": [],
   "source": [
    "# 論理値（頭は大文字）\n",
    "flag = True #False"
   ]
  },
  {
   "cell_type": "code",
   "execution_count": 5,
   "metadata": {},
   "outputs": [
    {
     "name": "stdout",
     "output_type": "stream",
     "text": [
      "89.2\n"
     ]
    }
   ],
   "source": [
    "i = 89.2\n",
    "print(i)"
   ]
  },
  {
   "cell_type": "code",
   "execution_count": null,
   "metadata": {},
   "outputs": [],
   "source": []
  },
  {
   "cell_type": "code",
   "execution_count": null,
   "metadata": {},
   "outputs": [],
   "source": []
  }
 ],
 "metadata": {
  "kernelspec": {
   "display_name": "Python 3",
   "language": "python",
   "name": "python3"
  },
  "language_info": {
   "codemirror_mode": {
    "name": "ipython",
    "version": 3
   },
   "file_extension": ".py",
   "mimetype": "text/x-python",
   "name": "python",
   "nbconvert_exporter": "python",
   "pygments_lexer": "ipython3",
   "version": "3.7.3"
  }
 },
 "nbformat": 4,
 "nbformat_minor": 2
}
