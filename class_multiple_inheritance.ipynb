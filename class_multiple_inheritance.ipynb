{
 "cells": [
  {
   "cell_type": "code",
   "execution_count": 1,
   "metadata": {},
   "outputs": [
    {
     "name": "stdout",
     "output_type": "stream",
     "text": [
      "A!\n",
      "B!\n"
     ]
    }
   ],
   "source": [
    "# クラスの多重継承\n",
    "\n",
    "class A:\n",
    "    def say_a(self):\n",
    "        print(\"A!\")\n",
    "class B:\n",
    "    def say_b(self):\n",
    "        print(\"B!\")\n",
    "\n",
    "class C(A, B):\n",
    "    pass\n",
    "\n",
    "c = C()\n",
    "c.say_a()\n",
    "c.say_b()"
   ]
  },
  {
   "cell_type": "code",
   "execution_count": 3,
   "metadata": {},
   "outputs": [
    {
     "name": "stdout",
     "output_type": "stream",
     "text": [
      "hi, from A\n"
     ]
    }
   ],
   "source": [
    "# クラスの多重継承\n",
    "\n",
    "class A:\n",
    "    def say_a(self):\n",
    "        print(\"A!\")\n",
    "    def say_hi(self):\n",
    "        print(\"hi, from A\")\n",
    "class B:\n",
    "    def say_b(self):\n",
    "        print(\"B!\")\n",
    "    def say_hi(self):\n",
    "        print(\"hi, from B\")\n",
    "\n",
    "class C(A, B):\n",
    "    pass\n",
    "\n",
    "c = C()\n",
    "# class Cのスーパークラスに同じメソッド(say_hi)があった場合、継承指定の順番が影響する\n",
    "c.say_hi()"
   ]
  },
  {
   "cell_type": "code",
   "execution_count": 4,
   "metadata": {},
   "outputs": [
    {
     "name": "stdout",
     "output_type": "stream",
     "text": [
      "hi, from B\n"
     ]
    }
   ],
   "source": [
    "# クラスの多重継承\n",
    "\n",
    "class A:\n",
    "    def say_a(self):\n",
    "        print(\"A!\")\n",
    "    def say_hi(self):\n",
    "        print(\"hi, from A\")\n",
    "class B:\n",
    "    def say_b(self):\n",
    "        print(\"B!\")\n",
    "    def say_hi(self):\n",
    "        print(\"hi, from B\")\n",
    "\n",
    "class C(B, A):\n",
    "    pass\n",
    "\n",
    "c = C()\n",
    "c.say_hi()"
   ]
  },
  {
   "cell_type": "code",
   "execution_count": null,
   "metadata": {},
   "outputs": [],
   "source": []
  },
  {
   "cell_type": "code",
   "execution_count": null,
   "metadata": {},
   "outputs": [],
   "source": []
  }
 ],
 "metadata": {
  "kernelspec": {
   "display_name": "Python 3",
   "language": "python",
   "name": "python3"
  },
  "language_info": {
   "codemirror_mode": {
    "name": "ipython",
    "version": 3
   },
   "file_extension": ".py",
   "mimetype": "text/x-python",
   "name": "python",
   "nbconvert_exporter": "python",
   "pygments_lexer": "ipython3",
   "version": "3.7.3"
  }
 },
 "nbformat": 4,
 "nbformat_minor": 2
}
