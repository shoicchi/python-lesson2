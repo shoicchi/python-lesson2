{
 "cells": [
  {
   "cell_type": "code",
   "execution_count": 5,
   "metadata": {},
   "outputs": [
    {
     "name": "stdout",
     "output_type": "stream",
     "text": [
      "200\n",
      "{'taguchi': 300, 'dotinstall': 500}\n"
     ]
    }
   ],
   "source": [
    "# dictionary型（辞書型）はキーと値でデータを管理する\n",
    "\n",
    "sales = {\"taguchi\": 200, \"fkoji\": 400}\n",
    "print(sales[\"taguchi\"])\n",
    "sales[\"taguchi\"] = 300\n",
    "sales[\"dotinstall\"] = 500\n",
    "del(sales[\"fkoji\"])\n",
    "print(sales)"
   ]
  },
  {
   "cell_type": "code",
   "execution_count": 8,
   "metadata": {},
   "outputs": [
    {
     "name": "stdout",
     "output_type": "stream",
     "text": [
      "taguchi: 200\n",
      "fkoji: 400\n"
     ]
    }
   ],
   "source": [
    "# 辞書型に対してのループ処理\n",
    "\n",
    "sales = {\"taguchi\": 200, \"fkoji\": 400}\n",
    "\n",
    "\n",
    "for key, value in sales.items():# .items()という命令でキーと値を同時に取り出せる\n",
    "    print(\"{0}: {1}\".format(key, value))"
   ]
  }
 ],
 "metadata": {
  "kernelspec": {
   "display_name": "Python 3",
   "language": "python",
   "name": "python3"
  },
  "language_info": {
   "codemirror_mode": {
    "name": "ipython",
    "version": 3
   },
   "file_extension": ".py",
   "mimetype": "text/x-python",
   "name": "python",
   "nbconvert_exporter": "python",
   "pygments_lexer": "ipython3",
   "version": "3.7.3"
  }
 },
 "nbformat": 4,
 "nbformat_minor": 2
}
