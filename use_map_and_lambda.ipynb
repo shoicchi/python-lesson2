{
 "cells": [
  {
   "cell_type": "code",
   "execution_count": 5,
   "metadata": {},
   "outputs": [
    {
     "name": "stdout",
     "output_type": "stream",
     "text": [
      "[3, 6, 9]\n"
     ]
    }
   ],
   "source": [
    "# map イテレータの要素を加工するもの\n",
    "# map(関数, イテレータ)\n",
    "\n",
    "def triple(n):\n",
    "    return n * 3\n",
    "\n",
    "print(list(map(triple, [1, 2, 3])))"
   ]
  },
  {
   "cell_type": "code",
   "execution_count": 6,
   "metadata": {},
   "outputs": [
    {
     "name": "stdout",
     "output_type": "stream",
     "text": [
      "<map object at 0x1109ee400>\n"
     ]
    }
   ],
   "source": [
    "def triple(n):\n",
    "    return n * 3\n",
    "\n",
    "print(map(triple, [1, 2, 3]))\n",
    "# map()ではジェネレータを返すのでlist()でリストに変換する必要がある"
   ]
  },
  {
   "cell_type": "code",
   "execution_count": 8,
   "metadata": {},
   "outputs": [
    {
     "name": "stdout",
     "output_type": "stream",
     "text": [
      "[2, 4, 6]\n"
     ]
    }
   ],
   "source": [
    "n = [1, 2, 3]\n",
    "\n",
    "def double(n):\n",
    "    return n * 2\n",
    "\n",
    "print(list(map(double, n)))\n",
    "# map(関数, イテレータ)の第二引数にはイテレータが期待されているのでリストを入れてもイテレータに変換される"
   ]
  },
  {
   "cell_type": "code",
   "execution_count": null,
   "metadata": {},
   "outputs": [],
   "source": [
    "# "
   ]
  }
 ],
 "metadata": {
  "kernelspec": {
   "display_name": "Python 3",
   "language": "python",
   "name": "python3"
  },
  "language_info": {
   "codemirror_mode": {
    "name": "ipython",
    "version": 3
   },
   "file_extension": ".py",
   "mimetype": "text/x-python",
   "name": "python",
   "nbconvert_exporter": "python",
   "pygments_lexer": "ipython3",
   "version": "3.7.3"
  }
 },
 "nbformat": 4,
 "nbformat_minor": 2
}
