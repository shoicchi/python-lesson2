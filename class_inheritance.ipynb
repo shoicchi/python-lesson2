{
 "cells": [
  {
   "cell_type": "code",
   "execution_count": 8,
   "metadata": {},
   "outputs": [
    {
     "name": "stdout",
     "output_type": "stream",
     "text": [
      "bob\n",
      "hi bob\n",
      "hello bob (23)\n"
     ]
    }
   ],
   "source": [
    "#  クラスの継承\n",
    "# User -> AdminUser\n",
    "# Userがスーパークラス（親クラス）、AdminUserがサブクラス（子クラス）という\n",
    "\n",
    "class User:\n",
    "    def __init__(self, name):\n",
    "        self.name = name\n",
    "    def say_hi(self):\n",
    "        print(\"hi {0}\" .format(self.name))\n",
    "        \n",
    "class AdminUser(User): # クラスを継承するには（）の中にスーパークラスを記述すれば良い\n",
    "    def __init__(self, name, age):\n",
    "        super().__init__(name) # 親クラスはsuperというキーワードで表現できる\n",
    "        self.age = age\n",
    "    def say_hello(self):\n",
    "        print(\"hello {0} ({1})\" .format(self.name, self.age))\n",
    "\n",
    "        \n",
    "bob = AdminUser(\"bob\", 23)\n",
    "print(bob.name)\n",
    "bob.say_hi()\n",
    "bob.say_hello()\n",
    "    \n",
    "            "
   ]
  },
  {
   "cell_type": "code",
   "execution_count": 9,
   "metadata": {},
   "outputs": [
    {
     "name": "stdout",
     "output_type": "stream",
     "text": [
      "bob\n",
      "[admin] hi bob\n",
      "hello bob (23)\n"
     ]
    }
   ],
   "source": [
    "#  クラスの継承\n",
    "# User -> AdminUser\n",
    "# Userがスーパークラス（親クラス）、AdminUserがサブクラス（子クラス）という\n",
    "\n",
    "class User:\n",
    "    def __init__(self, name):\n",
    "        self.name = name\n",
    "    def say_hi(self):\n",
    "        print(\"hi {0}\" .format(self.name))\n",
    "        \n",
    "class AdminUser(User): # クラスを継承するには（）の中にスーパークラスを記述すれば良い\n",
    "    def __init__(self, name, age):\n",
    "        super().__init__(name) # 親クラスはsuperというキーワードで表現できる\n",
    "        self.age = age\n",
    "    def say_hello(self):\n",
    "        print(\"hello {0} ({1})\" .format(self.name, self.age))\n",
    "    # override(親クラスのメソッドを上書き)\n",
    "    def say_hi(self):\n",
    "        print(\"[admin] hi {0}\" .format(self.name))\n",
    "\n",
    "        \n",
    "bob = AdminUser(\"bob\", 23)\n",
    "print(bob.name)\n",
    "bob.say_hi()\n",
    "bob.say_hello()"
   ]
  },
  {
   "cell_type": "code",
   "execution_count": null,
   "metadata": {},
   "outputs": [],
   "source": []
  },
  {
   "cell_type": "code",
   "execution_count": null,
   "metadata": {},
   "outputs": [],
   "source": []
  },
  {
   "cell_type": "code",
   "execution_count": null,
   "metadata": {},
   "outputs": [],
   "source": []
  },
  {
   "cell_type": "code",
   "execution_count": null,
   "metadata": {},
   "outputs": [],
   "source": []
  },
  {
   "cell_type": "code",
   "execution_count": null,
   "metadata": {},
   "outputs": [],
   "source": []
  },
  {
   "cell_type": "code",
   "execution_count": null,
   "metadata": {},
   "outputs": [],
   "source": []
  },
  {
   "cell_type": "code",
   "execution_count": null,
   "metadata": {},
   "outputs": [],
   "source": []
  },
  {
   "cell_type": "code",
   "execution_count": null,
   "metadata": {},
   "outputs": [],
   "source": []
  }
 ],
 "metadata": {
  "kernelspec": {
   "display_name": "Python 3",
   "language": "python",
   "name": "python3"
  },
  "language_info": {
   "codemirror_mode": {
    "name": "ipython",
    "version": 3
   },
   "file_extension": ".py",
   "mimetype": "text/x-python",
   "name": "python",
   "nbconvert_exporter": "python",
   "pygments_lexer": "ipython3",
   "version": "3.7.3"
  }
 },
 "nbformat": 4,
 "nbformat_minor": 2
}
