{
 "cells": [
  {
   "cell_type": "code",
   "execution_count": 4,
   "metadata": {},
   "outputs": [
    {
     "name": "stdout",
     "output_type": "stream",
     "text": [
      "0\n",
      "2\n",
      "2\n"
     ]
    }
   ],
   "source": [
    "class User:\n",
    "    #　クラス変数\n",
    "    count = 0\n",
    "    def __init__(self, name):\n",
    "        User.count += 1\n",
    "        self.name = name\n",
    "        \n",
    "print(User.count) # ０と表示（インスタンスを作らなくてもいきなり使える）\n",
    "tom = User(\"tom\")\n",
    "bob = User(\"bob\")\n",
    "print(User.count)\n",
    "print(tom.count) # 2と表示(同名のインスタンス変数がない場合、クラス変数が呼び出される)"
   ]
  }
 ],
 "metadata": {
  "kernelspec": {
   "display_name": "Python 3",
   "language": "python",
   "name": "python3"
  },
  "language_info": {
   "codemirror_mode": {
    "name": "ipython",
    "version": 3
   },
   "file_extension": ".py",
   "mimetype": "text/x-python",
   "name": "python",
   "nbconvert_exporter": "python",
   "pygments_lexer": "ipython3",
   "version": "3.7.3"
  }
 },
 "nbformat": 4,
 "nbformat_minor": 2
}
