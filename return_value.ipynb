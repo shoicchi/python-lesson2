{
 "cells": [
  {
   "cell_type": "code",
   "execution_count": 5,
   "metadata": {},
   "outputs": [
    {
     "name": "stdout",
     "output_type": "stream",
     "text": [
      "hi\n"
     ]
    }
   ],
   "source": [
    "def say_hi():\n",
    "    #print(\"hi\")これは文字列を表示\n",
    "    return \"hi\"#これは文字列を返す\n",
    "    print(\"hello\")#return以降は処理が無視されるので表示されない\n",
    "    \n",
    "msg = say_hi()\n",
    "print(msg)\n",
    "\n"
   ]
  },
  {
   "cell_type": "code",
   "execution_count": 7,
   "metadata": {},
   "outputs": [
    {
     "name": "stdout",
     "output_type": "stream",
     "text": [
      "None\n"
     ]
    }
   ],
   "source": [
    "def say_hi():\n",
    "    pass#関数の中身が何もない、あとで書くので何か書いておきたい場合に使われる\n",
    "    \n",
    "msg = say_hi()\n",
    "print(msg)\n",
    "\n",
    "# passで何もしなかったり、returnで値を返していない場合はNoneという特殊な値が帰ってくる\n",
    "\n"
   ]
  },
  {
   "cell_type": "code",
   "execution_count": 8,
   "metadata": {},
   "outputs": [
    {
     "ename": "IndentationError",
     "evalue": "expected an indented block (<ipython-input-8-d3b0379a5773>, line 4)",
     "output_type": "error",
     "traceback": [
      "\u001b[0;36m  File \u001b[0;32m\"<ipython-input-8-d3b0379a5773>\"\u001b[0;36m, line \u001b[0;32m4\u001b[0m\n\u001b[0;31m    msg = say_hi()\u001b[0m\n\u001b[0m      ^\u001b[0m\n\u001b[0;31mIndentationError\u001b[0m\u001b[0;31m:\u001b[0m expected an indented block\n"
     ]
    }
   ],
   "source": [
    "def say_hi():\n",
    "    \n",
    "    \n",
    "msg = say_hi()\n",
    "print(msg)\n",
    "\n",
    "# passがないのでerrorがでる\n",
    "# File \"<ipython-input-8-d3b0379a5773>\", line 4\n",
    "#     msg = say_hi()\n",
    "#       ^\n",
    "# IndentationError: expected an indented block"
   ]
  },
  {
   "cell_type": "code",
   "execution_count": null,
   "metadata": {},
   "outputs": [],
   "source": []
  },
  {
   "cell_type": "code",
   "execution_count": null,
   "metadata": {},
   "outputs": [],
   "source": []
  },
  {
   "cell_type": "code",
   "execution_count": null,
   "metadata": {},
   "outputs": [],
   "source": []
  },
  {
   "cell_type": "code",
   "execution_count": null,
   "metadata": {},
   "outputs": [],
   "source": []
  },
  {
   "cell_type": "code",
   "execution_count": null,
   "metadata": {},
   "outputs": [],
   "source": []
  },
  {
   "cell_type": "code",
   "execution_count": null,
   "metadata": {},
   "outputs": [],
   "source": []
  }
 ],
 "metadata": {
  "kernelspec": {
   "display_name": "Python 3",
   "language": "python",
   "name": "python3"
  },
  "language_info": {
   "codemirror_mode": {
    "name": "ipython",
    "version": 3
   },
   "file_extension": ".py",
   "mimetype": "text/x-python",
   "name": "python",
   "nbconvert_exporter": "python",
   "pygments_lexer": "ipython3",
   "version": "3.7.3"
  }
 },
 "nbformat": 4,
 "nbformat_minor": 2
}
