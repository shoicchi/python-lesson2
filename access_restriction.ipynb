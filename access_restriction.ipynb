{
 "cells": [
  {
   "cell_type": "code",
   "execution_count": 2,
   "metadata": {},
   "outputs": [
    {
     "name": "stdout",
     "output_type": "stream",
     "text": [
      "tom\n",
      "hi tom\n"
     ]
    }
   ],
   "source": [
    "class User:\n",
    "    def __init__(self, name):\n",
    "        self.name = name\n",
    "    def say_hi(self):\n",
    "        print(\"hi {0}\" .format(self.name))\n",
    "        \n",
    "tom =  User(\"tom\")\n",
    "print(tom.name)\n",
    "tom.say_hi()"
   ]
  },
  {
   "cell_type": "code",
   "execution_count": 6,
   "metadata": {},
   "outputs": [
    {
     "name": "stdout",
     "output_type": "stream",
     "text": [
      "tom\n",
      "hi tom\n"
     ]
    }
   ],
   "source": [
    "#　アクセス制限\n",
    "# _(アンダースコア)を変数名の前につけると、外からアクセスしないでくれという意味\n",
    "# ただこれは慣習的なもので、実際には以下のようにアクセスできる\n",
    "\n",
    "class User:\n",
    "    def __init__(self, name):\n",
    "        self._name = name\n",
    "    def say_hi(self):\n",
    "        print(\"hi {0}\" .format(self._name))\n",
    "        \n",
    "tom =  User(\"tom\")\n",
    "print(tom._name)\n",
    "tom.say_hi()\n"
   ]
  },
  {
   "cell_type": "code",
   "execution_count": 7,
   "metadata": {},
   "outputs": [
    {
     "ename": "AttributeError",
     "evalue": "'User' object has no attribute '__name'",
     "output_type": "error",
     "traceback": [
      "\u001b[0;31m---------------------------------------------------------------------------\u001b[0m",
      "\u001b[0;31mAttributeError\u001b[0m                            Traceback (most recent call last)",
      "\u001b[0;32m<ipython-input-7-6f3e693429d8>\u001b[0m in \u001b[0;36m<module>\u001b[0;34m\u001b[0m\n\u001b[1;32m      9\u001b[0m \u001b[0;34m\u001b[0m\u001b[0m\n\u001b[1;32m     10\u001b[0m \u001b[0mtom\u001b[0m \u001b[0;34m=\u001b[0m  \u001b[0mUser\u001b[0m\u001b[0;34m(\u001b[0m\u001b[0;34m\"tom\"\u001b[0m\u001b[0;34m)\u001b[0m\u001b[0;34m\u001b[0m\u001b[0;34m\u001b[0m\u001b[0m\n\u001b[0;32m---> 11\u001b[0;31m \u001b[0mprint\u001b[0m\u001b[0;34m(\u001b[0m\u001b[0mtom\u001b[0m\u001b[0;34m.\u001b[0m\u001b[0m__name\u001b[0m\u001b[0;34m)\u001b[0m\u001b[0;34m\u001b[0m\u001b[0;34m\u001b[0m\u001b[0m\n\u001b[0m\u001b[1;32m     12\u001b[0m \u001b[0mtom\u001b[0m\u001b[0;34m.\u001b[0m\u001b[0msay_hi\u001b[0m\u001b[0;34m(\u001b[0m\u001b[0;34m)\u001b[0m\u001b[0;34m\u001b[0m\u001b[0;34m\u001b[0m\u001b[0m\n",
      "\u001b[0;31mAttributeError\u001b[0m: 'User' object has no attribute '__name'"
     ]
    }
   ],
   "source": [
    "#　アクセス制限\n",
    "# _(アンダースコア)を　２つ　変数名の前につけると、外からアクセスしないでくれという意味\n",
    "\n",
    "class User:\n",
    "    def __init__(self, name):\n",
    "        self.__name = name\n",
    "    def say_hi(self):\n",
    "        print(\"hi {0}\" .format(self.__name))\n",
    "        \n",
    "tom =  User(\"tom\")\n",
    "print(tom.__name)\n",
    "tom.say_hi()"
   ]
  },
  {
   "cell_type": "code",
   "execution_count": 9,
   "metadata": {},
   "outputs": [
    {
     "name": "stdout",
     "output_type": "stream",
     "text": [
      "tom\n",
      "hi tom\n"
     ]
    }
   ],
   "source": [
    "#　アクセス制限\n",
    "# _(アンダースコア)を　２つ　変数名の前につけると、外からアクセスしないでくれという意味\n",
    "#_クラス名__属性名とするとアクセスできてしまう\n",
    "\n",
    "class User:\n",
    "    def __init__(self, name):\n",
    "        self.__name = name\n",
    "    def say_hi(self):\n",
    "        print(\"hi {0}\" .format(self.__name))\n",
    "        \n",
    "tom =  User(\"tom\")\n",
    "print(tom._User__name)\n",
    "tom.say_hi()"
   ]
  },
  {
   "cell_type": "code",
   "execution_count": null,
   "metadata": {},
   "outputs": [],
   "source": []
  },
  {
   "cell_type": "code",
   "execution_count": null,
   "metadata": {},
   "outputs": [],
   "source": []
  },
  {
   "cell_type": "code",
   "execution_count": null,
   "metadata": {},
   "outputs": [],
   "source": []
  },
  {
   "cell_type": "code",
   "execution_count": null,
   "metadata": {},
   "outputs": [],
   "source": []
  },
  {
   "cell_type": "code",
   "execution_count": null,
   "metadata": {},
   "outputs": [],
   "source": []
  }
 ],
 "metadata": {
  "kernelspec": {
   "display_name": "Python 3",
   "language": "python",
   "name": "python3"
  },
  "language_info": {
   "codemirror_mode": {
    "name": "ipython",
    "version": 3
   },
   "file_extension": ".py",
   "mimetype": "text/x-python",
   "name": "python",
   "nbconvert_exporter": "python",
   "pygments_lexer": "ipython3",
   "version": "3.7.3"
  }
 },
 "nbformat": 4,
 "nbformat_minor": 2
}
