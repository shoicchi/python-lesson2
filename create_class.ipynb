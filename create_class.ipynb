{
 "cells": [
  {
   "cell_type": "code",
   "execution_count": null,
   "metadata": {},
   "outputs": [],
   "source": [
    "# クラス\n",
    "user_name = \"taguchi\"\n",
    "user_score = \"10\"\n"
   ]
  },
  {
   "cell_type": "code",
   "execution_count": 1,
   "metadata": {},
   "outputs": [
    {
     "name": "stdout",
     "output_type": "stream",
     "text": [
      "tom\n",
      "5\n"
     ]
    }
   ],
   "source": [
    "class User:#クラス名は頭文字が大文字\n",
    "    pass\n",
    "\n",
    "tom = User()\n",
    "tom.name = \"tom\"\n",
    "tom.score = 20\n",
    "\n",
    "bob = User()\n",
    "bob.name = \"bob\"\n",
    "bob.level = 5\n",
    "\n",
    "print(tom.name)\n",
    "print(bob.level)"
   ]
  },
  {
   "cell_type": "code",
   "execution_count": null,
   "metadata": {},
   "outputs": [],
   "source": []
  }
 ],
 "metadata": {
  "kernelspec": {
   "display_name": "Python 3",
   "language": "python",
   "name": "python3"
  },
  "language_info": {
   "codemirror_mode": {
    "name": "ipython",
    "version": 3
   },
   "file_extension": ".py",
   "mimetype": "text/x-python",
   "name": "python",
   "nbconvert_exporter": "python",
   "pygments_lexer": "ipython3",
   "version": "3.7.3"
  }
 },
 "nbformat": 4,
 "nbformat_minor": 2
}
