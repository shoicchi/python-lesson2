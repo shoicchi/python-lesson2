{
 "cells": [
  {
   "cell_type": "code",
   "execution_count": 5,
   "metadata": {},
   "outputs": [
    {
     "name": "stdout",
     "output_type": "stream",
     "text": [
      "[50, 70, 90]\n",
      "[40, 50]\n",
      "[90, 60]\n",
      "[70, 90, 60]\n"
     ]
    }
   ],
   "source": [
    "# スライス\n",
    "scores = [40, 50, 70, 90, 60]\n",
    "print(scores[1:4])# [1]の前の位置から、[４]の前の位置までの間にある3つ(1:4を４−１として覚える)を切り取る\n",
    "print(scores[:2])# 最初から[2]の前の位置までを切り取る。2つ(0:2なので2-0)\n",
    "print(scores[3:])# [3]の前の位置から最後までを切り取る。\n",
    "print(scores[-3:])# -（最後の位置から）3つを引っ張ってくる。３つ（-3:0なので0-(-3)）"
   ]
  },
  {
   "cell_type": "code",
   "execution_count": 6,
   "metadata": {},
   "outputs": [
    {
     "name": "stdout",
     "output_type": "stream",
     "text": [
      "ell\n"
     ]
    }
   ],
   "source": [
    "# 文字列にもスライスは使える\n",
    "s = \"hello\"\n",
    "print(s[1:4])"
   ]
  }
 ],
 "metadata": {
  "kernelspec": {
   "display_name": "Python 3",
   "language": "python",
   "name": "python3"
  },
  "language_info": {
   "codemirror_mode": {
    "name": "ipython",
    "version": 3
   },
   "file_extension": ".py",
   "mimetype": "text/x-python",
   "name": "python",
   "nbconvert_exporter": "python",
   "pygments_lexer": "ipython3",
   "version": "3.7.3"
  }
 },
 "nbformat": 4,
 "nbformat_minor": 2
}
