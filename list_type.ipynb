{
 "cells": [
  {
   "cell_type": "code",
   "execution_count": 10,
   "metadata": {},
   "outputs": [
    {
     "name": "stdout",
     "output_type": "stream",
     "text": [
      "40\n",
      "45\n",
      "2\n",
      "[45, 50, 100]\n"
     ]
    }
   ],
   "source": [
    "# リスト型（順序つきのデータ型）\n",
    "\n",
    "scores = [40, 50]\n",
    "print(scores[0])\n",
    "\n",
    "# 要素の書き換え\n",
    "scores[0] = 45\n",
    "print(scores[0])\n",
    "\n",
    "# 要素の個数を調べる\n",
    "print(len(scores))\n",
    "\n",
    "# リストの末尾に要素を加える\n",
    "scores.append(100)\n",
    "print(scores)\n"
   ]
  },
  {
   "cell_type": "code",
   "execution_count": 5,
   "metadata": {},
   "outputs": [
    {
     "name": "stdout",
     "output_type": "stream",
     "text": [
      "40\n",
      "50\n"
     ]
    }
   ],
   "source": [
    "# forとの組み合わせ\n",
    "\n",
    "scores = [40, 50]\n",
    "\n",
    "for score in scores:\n",
    "    print(score)"
   ]
  },
  {
   "cell_type": "code",
   "execution_count": 7,
   "metadata": {},
   "outputs": [
    {
     "name": "stdout",
     "output_type": "stream",
     "text": [
      "0: 40\n",
      "1: 50\n"
     ]
    }
   ],
   "source": [
    "# 要素の順序ごと取り出したいとき\n",
    "\n",
    "scores = [40, 50]\n",
    "\n",
    "for i, score in enumerate(scores):\n",
    "    print(\"{0}: {1}\".format(i, score))"
   ]
  }
 ],
 "metadata": {
  "kernelspec": {
   "display_name": "Python 3",
   "language": "python",
   "name": "python3"
  },
  "language_info": {
   "codemirror_mode": {
    "name": "ipython",
    "version": 3
   },
   "file_extension": ".py",
   "mimetype": "text/x-python",
   "name": "python",
   "nbconvert_exporter": "python",
   "pygments_lexer": "ipython3",
   "version": "3.7.3"
  }
 },
 "nbformat": 4,
 "nbformat_minor": 2
}
