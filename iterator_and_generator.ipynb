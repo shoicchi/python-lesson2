{
 "cells": [
  {
   "cell_type": "code",
   "execution_count": 2,
   "metadata": {},
   "outputs": [
    {
     "name": "stdout",
     "output_type": "stream",
     "text": [
      "40\n",
      "50\n",
      "hello\n",
      "70\n"
     ]
    }
   ],
   "source": [
    "# iterator\n",
    "# イテレータとは次の要素を返してくれるデータの集合\n",
    "\n",
    "scores = [40, 50, 70, 90, 60]# リストを作る\n",
    "it = iter(scores)# イテレータに変換（iter()）\n",
    "print(next(it))# next()という命令で次の要素を引っ張ってくることができる\n",
    "print(next(it))\n",
    "print(\"hello\")# 関係のない処理を挟んでもどこまで要素が取得されているのか覚えていて\n",
    "print(next(it))# 続きから再開される"
   ]
  },
  {
   "cell_type": "code",
   "execution_count": 5,
   "metadata": {},
   "outputs": [
    {
     "name": "stdout",
     "output_type": "stream",
     "text": [
      "40\n",
      "50\n",
      "70\n",
      "90\n",
      "60\n"
     ]
    }
   ],
   "source": [
    "# for文の内部的構造\n",
    "scores = [40, 50, 70, 90, 60]\n",
    "\n",
    "# for文ではinの後ろにくる変数にイテレータを期待していて、ここにリストを書くと自動的にイテレーターに変換してくれる\n",
    "for score in scores:\n",
    "    #     内部的にnext()を読んでprint(score)の処理を行なっている\n",
    "    print(score)"
   ]
  },
  {
   "cell_type": "code",
   "execution_count": 8,
   "metadata": {},
   "outputs": [
    {
     "name": "stdout",
     "output_type": "stream",
     "text": [
      "0\n",
      "2\n",
      "4\n"
     ]
    }
   ],
   "source": [
    "# リスト生成後にイテレータに変換するのではなく、０から作る場合\n",
    "# ジェネレータ\n",
    "\n",
    "\n",
    "# せっかくなのでリストでは実現できない無限の要素を持つイテレータを作る\n",
    "def get_infinite():#　ジェネレータ（イテレータを作る関数のこと）\n",
    "    i = 0\n",
    "    while True:\n",
    "        yield i * 2\n",
    "        i += 1\n",
    "        \n",
    "g = get_infinite()\n",
    "print(next(g))\n",
    "print(next(g))\n",
    "print(next(g))"
   ]
  },
  {
   "cell_type": "code",
   "execution_count": 10,
   "metadata": {},
   "outputs": [
    {
     "name": "stdout",
     "output_type": "stream",
     "text": [
      "0\n",
      "0\n",
      "0\n"
     ]
    }
   ],
   "source": [
    "# ジェネレータへの理解\n",
    "# gにget_infinite()を代入せずにprint(next())で呼び出す\n",
    "\n",
    "def get_infinite():\n",
    "    i = 0\n",
    "    while True:\n",
    "        yield i * 2\n",
    "        i += 1\n",
    "        \n",
    "print(next(get_infinite()))# イテレータではなくジェネレータを呼び出しているので呼び出すごとに新しいイテレーターが生成されている\n",
    "print(next(get_infinite()))# ジェネレータからイテレータを生成するには一旦変数で受ける必要がある\n",
    "print(next(get_infinite()))\n"
   ]
  }
 ],
 "metadata": {
  "kernelspec": {
   "display_name": "Python 3",
   "language": "python",
   "name": "python3"
  },
  "language_info": {
   "codemirror_mode": {
    "name": "ipython",
    "version": 3
   },
   "file_extension": ".py",
   "mimetype": "text/x-python",
   "name": "python",
   "nbconvert_exporter": "python",
   "pygments_lexer": "ipython3",
   "version": "3.7.3"
  }
 },
 "nbformat": 4,
 "nbformat_minor": 2
}
