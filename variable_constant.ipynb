{
 "cells": [
  {
   "cell_type": "code",
   "execution_count": 2,
   "metadata": {},
   "outputs": [
    {
     "name": "stdout",
     "output_type": "stream",
     "text": [
      "Hello World\n",
      "Hello World, again\n",
      "constant@gmail.com\n"
     ]
    }
   ],
   "source": [
    "# 変数\n",
    "msg = \"Hello World\"\n",
    "print(msg)\n",
    "msg = \"Hello World, again\"\n",
    "print(msg)\n",
    "\n",
    "# 定数　再代入できない\n",
    "# Pythonでは全て大文字にしてあるものは定数のように扱うのが慣習的\n",
    "# 実際には定数をサポートしていないので再代入はできてしまう\n",
    "ADMIN_EMAIL = \"constant@gmail.com\"\n",
    "print(ADMIN_EMAIL)"
   ]
  },
  {
   "cell_type": "code",
   "execution_count": null,
   "metadata": {},
   "outputs": [],
   "source": []
  },
  {
   "cell_type": "code",
   "execution_count": null,
   "metadata": {},
   "outputs": [],
   "source": []
  }
 ],
 "metadata": {
  "kernelspec": {
   "display_name": "Python 3",
   "language": "python",
   "name": "python3"
  },
  "language_info": {
   "codemirror_mode": {
    "name": "ipython",
    "version": 3
   },
   "file_extension": ".py",
   "mimetype": "text/x-python",
   "name": "python",
   "nbconvert_exporter": "python",
   "pygments_lexer": "ipython3",
   "version": "3.7.3"
  }
 },
 "nbformat": 4,
 "nbformat_minor": 2
}
